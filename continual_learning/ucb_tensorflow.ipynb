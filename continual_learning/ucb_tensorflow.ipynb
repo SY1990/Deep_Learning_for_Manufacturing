{
 "cells": [
  {
   "cell_type": "code",
   "execution_count": 1,
   "metadata": {},
   "outputs": [],
   "source": [
    "import tensorflow as tf\n",
    "import tensorflow_probability as tfp\n",
    "import numpy as np\n",
    "tfd = tfp.distributions"
   ]
  },
  {
   "cell_type": "code",
   "execution_count": 2,
   "metadata": {},
   "outputs": [
    {
     "data": {
      "text/plain": [
       "'2.1.0'"
      ]
     },
     "execution_count": 2,
     "metadata": {},
     "output_type": "execute_result"
    }
   ],
   "source": [
    "tf.__version__"
   ]
  },
  {
   "cell_type": "code",
   "execution_count": 3,
   "metadata": {},
   "outputs": [
    {
     "name": "stdout",
     "output_type": "stream",
     "text": [
      "WARNING:tensorflow:From c:\\users\\sinha_s\\appdata\\local\\continuum\\anaconda3\\envs\\tf2_gpu\\lib\\site-packages\\tensorflow_probability\\python\\layers\\util.py:104: Layer.add_variable (from tensorflow.python.keras.engine.base_layer) is deprecated and will be removed in a future version.\n",
      "Instructions for updating:\n",
      "Please use `layer.add_weight` method instead.\n",
      "WARNING:tensorflow:From c:\\users\\sinha_s\\appdata\\local\\continuum\\anaconda3\\envs\\tf2_gpu\\lib\\site-packages\\tensorflow_core\\python\\ops\\linalg\\linear_operator_diag.py:166: calling LinearOperator.__init__ (from tensorflow.python.ops.linalg.linear_operator) with graph_parents is deprecated and will be removed in a future version.\n",
      "Instructions for updating:\n",
      "Do not pass `graph_parents`.  They will  no longer be used.\n",
      "Model: \"sequential\"\n",
      "_________________________________________________________________\n",
      "Layer (type)                 Output Shape              Param #   \n",
      "=================================================================\n",
      "conv3d_flipout (Conv3DFlipou (None, 30, 30, 30, 32)    24032     \n",
      "_________________________________________________________________\n",
      "conv3d_flipout_1 (Conv3DFlip (None, 14, 14, 14, 32)    131104    \n",
      "_________________________________________________________________\n",
      "conv3d_flipout_2 (Conv3DFlip (None, 12, 12, 12, 32)    55328     \n",
      "_________________________________________________________________\n",
      "max_pooling3d (MaxPooling3D) (None, 6, 6, 6, 32)       0         \n",
      "_________________________________________________________________\n",
      "flatten (Flatten)            (None, 6912)              0         \n",
      "_________________________________________________________________\n",
      "dense_flipout (DenseFlipout) (None, 128)               1769600   \n",
      "_________________________________________________________________\n",
      "dense_flipout_1 (DenseFlipou (None, 64)                16448     \n",
      "_________________________________________________________________\n",
      "dense_flipout_2 (DenseFlipou (None, 6)                 774       \n",
      "_________________________________________________________________\n",
      "distribution_lambda (Distrib ((None, 6), (None, 6))    0         \n",
      "=================================================================\n",
      "Total params: 1,997,286\n",
      "Trainable params: 1,997,286\n",
      "Non-trainable params: 0\n",
      "_________________________________________________________________\n",
      "None\n"
     ]
    }
   ],
   "source": [
    "# Define Bayes Model\n",
    "def bayes_model_arch(voxel_dim=64,deviation_channels=3,output_dimension=6):\n",
    "    kl_divergence_function = (lambda q, p, _: tfd.kl_divergence(q, p) / tf.cast(4000, dtype=tf.float32))\n",
    "    negloglik = lambda y, rv_y: -rv_y.log_prob(y)\n",
    "    aleatoric_std=0.001\n",
    "    aleatoric_tensor=[aleatoric_std] * output_dimension\n",
    "    model = tf.keras.Sequential([\n",
    "    tf.keras.layers.InputLayer(input_shape=(voxel_dim,voxel_dim,voxel_dim,deviation_channels)),\n",
    "    tfp.layers.Convolution3DFlipout(32, kernel_size=(5,5,5),kernel_divergence_fn=kl_divergence_function,strides=(2,2,2),activation=tf.nn.relu),\n",
    "    tfp.layers.Convolution3DFlipout(32, kernel_size=(4,4,4),kernel_divergence_fn=kl_divergence_function,strides=(2,2,2),activation=tf.nn.relu),\n",
    "    tfp.layers.Convolution3DFlipout(32, kernel_size=(3,3,3),kernel_divergence_fn=kl_divergence_function,strides=(1,1,1),activation=tf.nn.relu),\n",
    "    tf.keras.layers.MaxPooling3D(pool_size=[2, 2, 2]),\n",
    "    tf.keras.layers.Flatten(),\n",
    "    tfp.layers.DenseFlipout(128,activation=tf.nn.relu,kernel_divergence_fn=kl_divergence_function),\n",
    "    tfp.layers.DenseFlipout(64,kernel_divergence_fn=kl_divergence_function,activation=tf.nn.relu),\n",
    "    tfp.layers.DenseFlipout(output_dimension,kernel_divergence_fn=kl_divergence_function),\n",
    "    tfp.layers.DistributionLambda(lambda t:tfd.MultivariateNormalDiag(loc=t[..., :output_dimension], scale_diag=aleatoric_tensor)),])\n",
    "\n",
    "    #negloglik = lambda y, p_y: -p_y.log_prob(y)\n",
    "    #experimental_run_tf_function=False\n",
    "    #tf.keras.optimizers.Adam(lr=0.001)\n",
    "    model.compile(optimizer=tf.keras.optimizers.Adam(lr=0.001),experimental_run_tf_function=False,loss=negloglik,metrics=[tf.keras.metrics.MeanAbsoluteError()])\n",
    "    #print(\"3D CNN model successfully compiled\")\n",
    "    print(model.summary())\n",
    "    return model\n",
    "\n",
    "model=bayes_model_arch()"
   ]
  },
  {
   "cell_type": "code",
   "execution_count": 4,
   "metadata": {},
   "outputs": [
    {
     "data": {
      "text/plain": [
       "<tensorflow.python.training.tracking.util.CheckpointLoadStatus at 0x1e793e68048>"
      ]
     },
     "execution_count": 4,
     "metadata": {},
     "output_type": "execute_result"
    }
   ],
   "source": [
    "#Loading Model Weights\n",
    "part_type=\"inner_rf_assembly\"\n",
    "train_path='../trained_models/'+part_type\n",
    "weight_path=train_path+'/model'+'/Bayes_trained_model_0'\n",
    "model.load_weights(weight_path)"
   ]
  },
  {
   "cell_type": "code",
   "execution_count": 5,
   "metadata": {},
   "outputs": [
    {
     "data": {
      "text/plain": [
       "(32,)"
      ]
     },
     "execution_count": 5,
     "metadata": {},
     "output_type": "execute_result"
    }
   ],
   "source": [
    "# Template for extracting weights [0] mean weights , [1] Std Dev Weights ,[2] Bias (deterministic)\n",
    "W_Input_Hidden = model.layers[0].get_weights()\n",
    "len(W_Input_Hidden)\n",
    "W_Input_Hidden[2].shape"
   ]
  },
  {
   "cell_type": "code",
   "execution_count": 6,
   "metadata": {},
   "outputs": [],
   "source": [
    "from lr_multiplier import LearningRateMultiplier"
   ]
  },
  {
   "cell_type": "code",
   "execution_count": null,
   "metadata": {},
   "outputs": [],
   "source": []
  }
 ],
 "metadata": {
  "kernelspec": {
   "display_name": "Python 3",
   "language": "python",
   "name": "python3"
  },
  "language_info": {
   "codemirror_mode": {
    "name": "ipython",
    "version": 3
   },
   "file_extension": ".py",
   "mimetype": "text/x-python",
   "name": "python",
   "nbconvert_exporter": "python",
   "pygments_lexer": "ipython3",
   "version": "3.7.6"
  }
 },
 "nbformat": 4,
 "nbformat_minor": 4
}
